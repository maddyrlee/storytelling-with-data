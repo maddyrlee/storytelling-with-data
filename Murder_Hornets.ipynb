{
  "nbformat": 4,
  "nbformat_minor": 0,
  "metadata": {
    "kernelspec": {
      "display_name": "Psych 81.09",
      "language": "python",
      "name": "psych81.09"
    },
    "language_info": {
      "codemirror_mode": {
        "name": "ipython",
        "version": 3
      },
      "file_extension": ".py",
      "mimetype": "text/x-python",
      "name": "python",
      "nbconvert_exporter": "python",
      "pygments_lexer": "ipython3",
      "version": "3.6.8"
    },
    "colab": {
      "name": "Murder Hornets.ipynb",
      "provenance": [],
      "collapsed_sections": [],
      "include_colab_link": true
    }
  },
  "cells": [
    {
      "cell_type": "markdown",
      "metadata": {
        "id": "view-in-github",
        "colab_type": "text"
      },
      "source": [
        "<a href=\"https://colab.research.google.com/github/philiplindsay/storytelling-with-data/blob/master/Murder_Hornets.ipynb\" target=\"_parent\"><img src=\"https://colab.research.google.com/assets/colab-badge.svg\" alt=\"Open In Colab\"/></a>"
      ]
    },
    {
      "cell_type": "markdown",
      "metadata": {
        "id": "7uK8EWDWS2Xh",
        "colab_type": "text"
      },
      "source": [
        "**FINAL VIDEO**\n",
        "\n",
        "https://youtu.be/0_5KRSTJ8wk"
      ]
    },
    {
      "cell_type": "markdown",
      "metadata": {
        "id": "PopIkiYQftCQ",
        "colab_type": "text"
      },
      "source": [
        "**Relevant Links**\n",
        "\n",
        "HTML data navigation site: https://www1.ncdc.noaa.gov/pub/data/normals/\n",
        "\n",
        "Example notebook from professor Manning: https://colab.research.google.com/drive/1Y7M5yKMPN9rOmxHlQ66MyIY6cREb_BW6?usp=sharing#scrollTo=T7QH7voOjtUW"
      ]
    },
    {
      "cell_type": "code",
      "metadata": {
        "id": "u-goKJt8kaZv",
        "colab_type": "code",
        "colab": {}
      },
      "source": [
        "#import relevant packages\n",
        "import numpy as np\n",
        "import pandas as pd\n",
        "import plotly.express as px"
      ],
      "execution_count": 0,
      "outputs": []
    },
    {
      "cell_type": "code",
      "metadata": {
        "id": "Wr9aBvH_IGZp",
        "colab_type": "code",
        "colab": {}
      },
      "source": [
        "#import monthly average temperatures dataset\n",
        "temp_data = 'https://www1.ncdc.noaa.gov/pub/data/normals/1981-2010/products/temperature/mly-tavg-normal.txt'\n",
        "id_data = 'https://www1.ncdc.noaa.gov/pub/data/normals/1981-2010/station-inventories/allstations.txt'\n",
        "rain_data = 'https://www1.ncdc.noaa.gov/pub/data/normals/1981-2010/products/precipitation/ann-prcp-normal.txt'\n",
        "raw_temp = pd.read_csv(temp_data)\n",
        "raw_id = pd.read_csv(id_data)\n",
        "raw_rain = pd.read_csv(rain_data)\n",
        "\n",
        "#turn temperature data in data frame\n",
        "temp = pd.DataFrame(index = pd.Series(np.arange(raw_temp.shape[0])), columns = np.arange(13))\n",
        "for i in np.arange(raw_temp.shape[0]):\n",
        "  x = raw_temp.iloc[i].values[0].split()\n",
        "  for j in np.arange(temp.shape[1]):\n",
        "    temp.at[i, j] = x[j]\n",
        "\n",
        "#set station id as index for dataset\n",
        "temp.set_index(0, inplace = True)\n",
        "\n",
        "#delete last value in columns 1-13 (it's just a standard for how good that piece of data is)\n",
        "for i in range(1, 13):\n",
        "    temp[i] = temp[i].astype(str).str[:-1].astype(np.str)\n",
        "\n",
        "#create new dataframe with only minimum and maximum monthly values\n",
        "temp = pd.DataFrame(index = temp.index, data=np.vstack([temp.min(axis = 1).values, temp.max(axis = 1).values]).T, columns=['min', 'max'])\n",
        "\n",
        "#turn id data in data frame\n",
        "id = pd.DataFrame(index = pd.Series(np.arange(raw_id.shape[0])), columns = np.arange(5))\n",
        "for i in np.arange(raw_id.shape[0]):\n",
        "  x = raw_id.iloc[i].values[0].split()\n",
        "  for j in np.arange(id.shape[1]):\n",
        "    id.at[i, j] = x[j]\n",
        "\n",
        "#set station id as index for dataset\n",
        "id.set_index(0, inplace = True)\n",
        "\n",
        "#rename state variable\n",
        "id = id.rename(columns = {4: 'State'})\n",
        "\n",
        "#drop unecessary variables\n",
        "id = id[['State']]\n",
        "\n",
        "#turn rain data in data frame\n",
        "rain = pd.DataFrame(index = pd.Series(np.arange(raw_rain.shape[0])), columns = np.arange(2))\n",
        "for i in np.arange(raw_rain.shape[0]):\n",
        "  x = raw_rain.iloc[i].values[0].split()\n",
        "  for j in np.arange(rain.shape[1]):\n",
        "    rain.at[i, j] = x[j]\n",
        "\n",
        "#set station id as index for dataset\n",
        "rain.set_index(0, inplace = True)\n",
        "\n",
        "#delete last value in column (it's just a standard for how good that piece of data is)\n",
        "rain[1] = rain[1].astype(str).str[:-1].astype(np.str)\n",
        "\n",
        "#rename rain variable and make it numeric\n",
        "rain = rain.rename(columns = {1: 'rain'})\n",
        "rain[\"rain\"] = pd.to_numeric(rain[\"rain\"])\n",
        "\n",
        "#merge ID, rain, and temperature data\n",
        "merged = pd.merge(id, temp, left_index = True, right_index = True)\n",
        "merged = pd.merge(merged, rain, left_index = True, right_index = True)\n",
        "\n",
        "#average across the State\n",
        "merged = merged.groupby('State').mean()\n",
        "\n",
        "#generate temperature range variable\n",
        "merged['range'] = merged['max'] - merged['min']\n",
        "\n",
        "#generate dummy variable for temperate climate\n",
        "merged['temperate'] = 1\n",
        "merged['temperate'] = merged['temperate'].mask(merged['rain'] < 3200.0, 0)\n",
        "merged['temperate'] = merged['temperate'].mask(merged['min'] < 266.0, 0)\n",
        "merged['temperate'] = merged['temperate'].mask(merged['range'] > 560.0, 0)\n",
        "\n",
        "#add column equal to index for graphing\n",
        "merged['State'] = merged.index"
      ],
      "execution_count": 0,
      "outputs": []
    },
    {
      "cell_type": "code",
      "metadata": {
        "id": "isd57QxMobKy",
        "colab_type": "code",
        "colab": {}
      },
      "source": [
        "#graph temperate environments across the United States\n",
        "fig = px.choropleth(data_frame = merged,\n",
        "              locations = 'State',\n",
        "              locationmode = 'USA-states',\n",
        "              color = merged['temperate'],\n",
        "              scope = 'usa',\n",
        "              color_continuous_scale = [(0, \"blue\"), (0.5, \"blue\"),  \n",
        "                                        (0.5, \"yellow\"), (1, \"yellow\")],\n",
        "              title = 'Environmental suitability for Asian Hornets')\n",
        "\n",
        "#improve clarity of legend\n",
        "fig.update_layout(coloraxis_colorbar = dict(\n",
        "    title = None,\n",
        "    tickvals = [0, 1],\n",
        "    ticktext = [\"not suitable\", \"suitable\"],\n",
        "    lenmode=\"pixels\", len=100,\n",
        "))\n",
        "\n",
        "fig"
      ],
      "execution_count": 0,
      "outputs": []
    },
    {
      "cell_type": "code",
      "metadata": {
        "id": "y8KV8rZiz1of",
        "colab_type": "code",
        "colab": {}
      },
      "source": [
        "#create deaths per capita data frame\n",
        "death = {'death': ['hornet', 'lightning'], 'per_capita': [0.0316, 0.0152]}\n",
        "death = pd.DataFrame(data = death)\n",
        "death1 = {'death': ['hornet', 'lightning', 'car'], 'per_capita': [0.0316, 0.0152, 11.578]}\n",
        "death1 = pd.DataFrame(data = death1)"
      ],
      "execution_count": 0,
      "outputs": []
    },
    {
      "cell_type": "code",
      "metadata": {
        "id": "1TFrfx8T5DqB",
        "colab_type": "code",
        "colab": {}
      },
      "source": [
        "px.bar(death, x = 'death', y = 'per_capita',\n",
        "       labels = {'death':' ', 'per_capita':' '},\n",
        "       title = 'Deaths per 100,000 people')"
      ],
      "execution_count": 0,
      "outputs": []
    },
    {
      "cell_type": "code",
      "metadata": {
        "id": "v1MYv6cC5dUu",
        "colab_type": "code",
        "colab": {}
      },
      "source": [
        "px.bar(death1, x = 'death', y = 'per_capita',\n",
        "       labels = {'death':' ', 'per_capita':' '},\n",
        "       title = 'Deaths per 100,000 people')"
      ],
      "execution_count": 0,
      "outputs": []
    }
  ]
}